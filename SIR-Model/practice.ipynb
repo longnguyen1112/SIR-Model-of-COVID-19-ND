{
 "cells": [
  {
   "cell_type": "code",
   "execution_count": 1,
   "id": "eb243f03",
   "metadata": {},
   "outputs": [],
   "source": [
    "import numpy as np\n",
    "import pandas as pd"
   ]
  },
  {
   "cell_type": "code",
   "execution_count": 2,
   "id": "685dcb82",
   "metadata": {},
   "outputs": [],
   "source": [
    "dataset = pd.read_csv('test.csv')\n",
    "newdataset = pd.DataFrame()\n",
    "temp = pd.DataFrame()"
   ]
  },
  {
   "cell_type": "code",
   "execution_count": 3,
   "id": "20b1bce1",
   "metadata": {},
   "outputs": [
    {
     "data": {
      "text/plain": [
       "COUNTY                162\n",
       "Total Active Cases    162\n",
       "Total Recovered       162\n",
       "Total Deaths          162\n",
       "Date                  162\n",
       "dtype: int64"
      ]
     },
     "execution_count": 3,
     "metadata": {},
     "output_type": "execute_result"
    }
   ],
   "source": [
    "dataset.count()"
   ]
  },
  {
   "cell_type": "code",
   "execution_count": 4,
   "id": "d1ac9c06",
   "metadata": {
    "scrolled": true
   },
   "outputs": [
    {
     "data": {
      "text/html": [
       "<div>\n",
       "<style scoped>\n",
       "    .dataframe tbody tr th:only-of-type {\n",
       "        vertical-align: middle;\n",
       "    }\n",
       "\n",
       "    .dataframe tbody tr th {\n",
       "        vertical-align: top;\n",
       "    }\n",
       "\n",
       "    .dataframe thead th {\n",
       "        text-align: right;\n",
       "    }\n",
       "</style>\n",
       "<table border=\"1\" class=\"dataframe\">\n",
       "  <thead>\n",
       "    <tr style=\"text-align: right;\">\n",
       "      <th></th>\n",
       "      <th>COUNTY</th>\n",
       "      <th>Total Active Cases</th>\n",
       "      <th>Total Recovered</th>\n",
       "      <th>Total Deaths</th>\n",
       "      <th>Date</th>\n",
       "    </tr>\n",
       "  </thead>\n",
       "  <tbody>\n",
       "    <tr>\n",
       "      <th>0</th>\n",
       "      <td>Adams</td>\n",
       "      <td>0</td>\n",
       "      <td>0</td>\n",
       "      <td>0</td>\n",
       "      <td>4/1/2020</td>\n",
       "    </tr>\n",
       "    <tr>\n",
       "      <th>1</th>\n",
       "      <td>Barnes</td>\n",
       "      <td>0</td>\n",
       "      <td>0</td>\n",
       "      <td>0</td>\n",
       "      <td>4/1/2020</td>\n",
       "    </tr>\n",
       "    <tr>\n",
       "      <th>2</th>\n",
       "      <td>Benson</td>\n",
       "      <td>0</td>\n",
       "      <td>0</td>\n",
       "      <td>0</td>\n",
       "      <td>4/1/2020</td>\n",
       "    </tr>\n",
       "    <tr>\n",
       "      <th>3</th>\n",
       "      <td>Billings</td>\n",
       "      <td>0</td>\n",
       "      <td>0</td>\n",
       "      <td>0</td>\n",
       "      <td>4/1/2020</td>\n",
       "    </tr>\n",
       "    <tr>\n",
       "      <th>4</th>\n",
       "      <td>Bottineau</td>\n",
       "      <td>0</td>\n",
       "      <td>0</td>\n",
       "      <td>0</td>\n",
       "      <td>4/1/2020</td>\n",
       "    </tr>\n",
       "  </tbody>\n",
       "</table>\n",
       "</div>"
      ],
      "text/plain": [
       "      COUNTY  Total Active Cases  Total Recovered  Total Deaths      Date\n",
       "0      Adams                   0                0             0  4/1/2020\n",
       "1     Barnes                   0                0             0  4/1/2020\n",
       "2     Benson                   0                0             0  4/1/2020\n",
       "3   Billings                   0                0             0  4/1/2020\n",
       "4  Bottineau                   0                0             0  4/1/2020"
      ]
     },
     "execution_count": 4,
     "metadata": {},
     "output_type": "execute_result"
    }
   ],
   "source": [
    "dataset.head()"
   ]
  },
  {
   "cell_type": "code",
   "execution_count": 5,
   "id": "ed879e66",
   "metadata": {},
   "outputs": [
    {
     "data": {
      "text/plain": [
       "(162, 5)"
      ]
     },
     "execution_count": 5,
     "metadata": {},
     "output_type": "execute_result"
    }
   ],
   "source": [
    "dataset.shape"
   ]
  },
  {
   "cell_type": "code",
   "execution_count": 6,
   "id": "e6af201a",
   "metadata": {
    "scrolled": true
   },
   "outputs": [
    {
     "data": {
      "text/plain": [
       "162"
      ]
     },
     "execution_count": 6,
     "metadata": {},
     "output_type": "execute_result"
    }
   ],
   "source": [
    "len(dataset.index)"
   ]
  },
  {
   "cell_type": "code",
   "execution_count": 7,
   "id": "20d0ceba",
   "metadata": {},
   "outputs": [
    {
     "name": "stdout",
     "output_type": "stream",
     "text": [
      "3\n"
     ]
    }
   ],
   "source": [
    "days = int(len(dataset.index)/54)\n",
    "print(days)"
   ]
  },
  {
   "cell_type": "code",
   "execution_count": 8,
   "id": "c4381af6",
   "metadata": {},
   "outputs": [],
   "source": [
    "for j in range(0,days):\n",
    "    for i in range(1+54*j,54+54*j):\n",
    "        dataset.loc[i,:]=dataset.loc[i-1,:] + dataset.loc[i,:]\n",
    "        temp=dataset[i:i+1]\n",
    "    newdataset=pd.concat([newdataset,temp])\n",
    "    newdataset.iloc[j,-1]=j+1\n",
    "    temp = temp[0:0]"
   ]
  },
  {
   "cell_type": "code",
   "execution_count": 9,
   "id": "ec18cd2f",
   "metadata": {
    "scrolled": false
   },
   "outputs": [
    {
     "data": {
      "text/html": [
       "<div>\n",
       "<style scoped>\n",
       "    .dataframe tbody tr th:only-of-type {\n",
       "        vertical-align: middle;\n",
       "    }\n",
       "\n",
       "    .dataframe tbody tr th {\n",
       "        vertical-align: top;\n",
       "    }\n",
       "\n",
       "    .dataframe thead th {\n",
       "        text-align: right;\n",
       "    }\n",
       "</style>\n",
       "<table border=\"1\" class=\"dataframe\">\n",
       "  <thead>\n",
       "    <tr style=\"text-align: right;\">\n",
       "      <th></th>\n",
       "      <th>COUNTY</th>\n",
       "      <th>Total Active Cases</th>\n",
       "      <th>Total Recovered</th>\n",
       "      <th>Total Deaths</th>\n",
       "      <th>Date</th>\n",
       "    </tr>\n",
       "  </thead>\n",
       "  <tbody>\n",
       "    <tr>\n",
       "      <th>0</th>\n",
       "      <td>Adams</td>\n",
       "      <td>0</td>\n",
       "      <td>0</td>\n",
       "      <td>0</td>\n",
       "      <td>4/1/2020</td>\n",
       "    </tr>\n",
       "    <tr>\n",
       "      <th>1</th>\n",
       "      <td>AdamsBarnes</td>\n",
       "      <td>0</td>\n",
       "      <td>0</td>\n",
       "      <td>0</td>\n",
       "      <td>4/1/20204/1/2020</td>\n",
       "    </tr>\n",
       "    <tr>\n",
       "      <th>2</th>\n",
       "      <td>AdamsBarnesBenson</td>\n",
       "      <td>0</td>\n",
       "      <td>0</td>\n",
       "      <td>0</td>\n",
       "      <td>4/1/20204/1/20204/1/2020</td>\n",
       "    </tr>\n",
       "    <tr>\n",
       "      <th>3</th>\n",
       "      <td>AdamsBarnesBensonBillings</td>\n",
       "      <td>0</td>\n",
       "      <td>0</td>\n",
       "      <td>0</td>\n",
       "      <td>4/1/20204/1/20204/1/20204/1/2020</td>\n",
       "    </tr>\n",
       "    <tr>\n",
       "      <th>4</th>\n",
       "      <td>AdamsBarnesBensonBillingsBottineau</td>\n",
       "      <td>0</td>\n",
       "      <td>0</td>\n",
       "      <td>0</td>\n",
       "      <td>4/1/20204/1/20204/1/20204/1/20204/1/2020</td>\n",
       "    </tr>\n",
       "    <tr>\n",
       "      <th>...</th>\n",
       "      <td>...</td>\n",
       "      <td>...</td>\n",
       "      <td>...</td>\n",
       "      <td>...</td>\n",
       "      <td>...</td>\n",
       "    </tr>\n",
       "    <tr>\n",
       "      <th>157</th>\n",
       "      <td>AdamsBarnesBensonBillingsBottineauBowmanBurkeB...</td>\n",
       "      <td>102</td>\n",
       "      <td>8</td>\n",
       "      <td>0</td>\n",
       "      <td>4/3/20204/3/20204/3/20204/3/20204/3/20204/3/20...</td>\n",
       "    </tr>\n",
       "    <tr>\n",
       "      <th>158</th>\n",
       "      <td>AdamsBarnesBensonBillingsBottineauBowmanBurkeB...</td>\n",
       "      <td>109</td>\n",
       "      <td>9</td>\n",
       "      <td>0</td>\n",
       "      <td>4/3/20204/3/20204/3/20204/3/20204/3/20204/3/20...</td>\n",
       "    </tr>\n",
       "    <tr>\n",
       "      <th>159</th>\n",
       "      <td>AdamsBarnesBensonBillingsBottineauBowmanBurkeB...</td>\n",
       "      <td>109</td>\n",
       "      <td>9</td>\n",
       "      <td>0</td>\n",
       "      <td>4/3/20204/3/20204/3/20204/3/20204/3/20204/3/20...</td>\n",
       "    </tr>\n",
       "    <tr>\n",
       "      <th>160</th>\n",
       "      <td>AdamsBarnesBensonBillingsBottineauBowmanBurkeB...</td>\n",
       "      <td>114</td>\n",
       "      <td>9</td>\n",
       "      <td>0</td>\n",
       "      <td>4/3/20204/3/20204/3/20204/3/20204/3/20204/3/20...</td>\n",
       "    </tr>\n",
       "    <tr>\n",
       "      <th>161</th>\n",
       "      <td>AdamsBarnesBensonBillingsBottineauBowmanBurkeB...</td>\n",
       "      <td>114</td>\n",
       "      <td>9</td>\n",
       "      <td>0</td>\n",
       "      <td>4/3/20204/3/20204/3/20204/3/20204/3/20204/3/20...</td>\n",
       "    </tr>\n",
       "  </tbody>\n",
       "</table>\n",
       "<p>162 rows × 5 columns</p>\n",
       "</div>"
      ],
      "text/plain": [
       "                                                COUNTY  Total Active Cases  \\\n",
       "0                                                Adams                   0   \n",
       "1                                          AdamsBarnes                   0   \n",
       "2                                    AdamsBarnesBenson                   0   \n",
       "3                            AdamsBarnesBensonBillings                   0   \n",
       "4                   AdamsBarnesBensonBillingsBottineau                   0   \n",
       "..                                                 ...                 ...   \n",
       "157  AdamsBarnesBensonBillingsBottineauBowmanBurkeB...                 102   \n",
       "158  AdamsBarnesBensonBillingsBottineauBowmanBurkeB...                 109   \n",
       "159  AdamsBarnesBensonBillingsBottineauBowmanBurkeB...                 109   \n",
       "160  AdamsBarnesBensonBillingsBottineauBowmanBurkeB...                 114   \n",
       "161  AdamsBarnesBensonBillingsBottineauBowmanBurkeB...                 114   \n",
       "\n",
       "     Total Recovered  Total Deaths  \\\n",
       "0                  0             0   \n",
       "1                  0             0   \n",
       "2                  0             0   \n",
       "3                  0             0   \n",
       "4                  0             0   \n",
       "..               ...           ...   \n",
       "157                8             0   \n",
       "158                9             0   \n",
       "159                9             0   \n",
       "160                9             0   \n",
       "161                9             0   \n",
       "\n",
       "                                                  Date  \n",
       "0                                             4/1/2020  \n",
       "1                                     4/1/20204/1/2020  \n",
       "2                             4/1/20204/1/20204/1/2020  \n",
       "3                     4/1/20204/1/20204/1/20204/1/2020  \n",
       "4             4/1/20204/1/20204/1/20204/1/20204/1/2020  \n",
       "..                                                 ...  \n",
       "157  4/3/20204/3/20204/3/20204/3/20204/3/20204/3/20...  \n",
       "158  4/3/20204/3/20204/3/20204/3/20204/3/20204/3/20...  \n",
       "159  4/3/20204/3/20204/3/20204/3/20204/3/20204/3/20...  \n",
       "160  4/3/20204/3/20204/3/20204/3/20204/3/20204/3/20...  \n",
       "161  4/3/20204/3/20204/3/20204/3/20204/3/20204/3/20...  \n",
       "\n",
       "[162 rows x 5 columns]"
      ]
     },
     "execution_count": 9,
     "metadata": {},
     "output_type": "execute_result"
    }
   ],
   "source": [
    "dataset"
   ]
  },
  {
   "cell_type": "code",
   "execution_count": 10,
   "id": "79a30e0c",
   "metadata": {},
   "outputs": [
    {
     "data": {
      "text/html": [
       "<div>\n",
       "<style scoped>\n",
       "    .dataframe tbody tr th:only-of-type {\n",
       "        vertical-align: middle;\n",
       "    }\n",
       "\n",
       "    .dataframe tbody tr th {\n",
       "        vertical-align: top;\n",
       "    }\n",
       "\n",
       "    .dataframe thead th {\n",
       "        text-align: right;\n",
       "    }\n",
       "</style>\n",
       "<table border=\"1\" class=\"dataframe\">\n",
       "  <thead>\n",
       "    <tr style=\"text-align: right;\">\n",
       "      <th></th>\n",
       "      <th>COUNTY</th>\n",
       "      <th>Total Active Cases</th>\n",
       "      <th>Total Recovered</th>\n",
       "      <th>Total Deaths</th>\n",
       "      <th>Date</th>\n",
       "    </tr>\n",
       "  </thead>\n",
       "  <tbody>\n",
       "  </tbody>\n",
       "</table>\n",
       "</div>"
      ],
      "text/plain": [
       "Empty DataFrame\n",
       "Columns: [COUNTY, Total Active Cases, Total Recovered, Total Deaths, Date]\n",
       "Index: []"
      ]
     },
     "execution_count": 10,
     "metadata": {},
     "output_type": "execute_result"
    }
   ],
   "source": [
    "temp"
   ]
  },
  {
   "cell_type": "code",
   "execution_count": 11,
   "id": "e853d2ea",
   "metadata": {},
   "outputs": [
    {
     "data": {
      "text/html": [
       "<div>\n",
       "<style scoped>\n",
       "    .dataframe tbody tr th:only-of-type {\n",
       "        vertical-align: middle;\n",
       "    }\n",
       "\n",
       "    .dataframe tbody tr th {\n",
       "        vertical-align: top;\n",
       "    }\n",
       "\n",
       "    .dataframe thead th {\n",
       "        text-align: right;\n",
       "    }\n",
       "</style>\n",
       "<table border=\"1\" class=\"dataframe\">\n",
       "  <thead>\n",
       "    <tr style=\"text-align: right;\">\n",
       "      <th></th>\n",
       "      <th>COUNTY</th>\n",
       "      <th>Total Active Cases</th>\n",
       "      <th>Total Recovered</th>\n",
       "      <th>Total Deaths</th>\n",
       "      <th>Date</th>\n",
       "    </tr>\n",
       "  </thead>\n",
       "  <tbody>\n",
       "    <tr>\n",
       "      <th>53</th>\n",
       "      <td>AdamsBarnesBensonBillingsBottineauBowmanBurkeB...</td>\n",
       "      <td>106</td>\n",
       "      <td>11</td>\n",
       "      <td>0</td>\n",
       "      <td>1</td>\n",
       "    </tr>\n",
       "    <tr>\n",
       "      <th>107</th>\n",
       "      <td>AdamsBarnesBensonBillingsBottineauBowmanBurkeB...</td>\n",
       "      <td>110</td>\n",
       "      <td>10</td>\n",
       "      <td>0</td>\n",
       "      <td>2</td>\n",
       "    </tr>\n",
       "    <tr>\n",
       "      <th>161</th>\n",
       "      <td>AdamsBarnesBensonBillingsBottineauBowmanBurkeB...</td>\n",
       "      <td>114</td>\n",
       "      <td>9</td>\n",
       "      <td>0</td>\n",
       "      <td>3</td>\n",
       "    </tr>\n",
       "  </tbody>\n",
       "</table>\n",
       "</div>"
      ],
      "text/plain": [
       "                                                COUNTY  Total Active Cases  \\\n",
       "53   AdamsBarnesBensonBillingsBottineauBowmanBurkeB...                 106   \n",
       "107  AdamsBarnesBensonBillingsBottineauBowmanBurkeB...                 110   \n",
       "161  AdamsBarnesBensonBillingsBottineauBowmanBurkeB...                 114   \n",
       "\n",
       "     Total Recovered  Total Deaths Date  \n",
       "53                11             0    1  \n",
       "107               10             0    2  \n",
       "161                9             0    3  "
      ]
     },
     "execution_count": 11,
     "metadata": {},
     "output_type": "execute_result"
    }
   ],
   "source": [
    "newdataset"
   ]
  },
  {
   "cell_type": "code",
   "execution_count": 12,
   "id": "ef41521f",
   "metadata": {},
   "outputs": [
    {
     "data": {
      "text/plain": [
       "2.6390573296152584"
      ]
     },
     "execution_count": 12,
     "metadata": {},
     "output_type": "execute_result"
    }
   ],
   "source": [
    "import math\n",
    "math.log(14)"
   ]
  },
  {
   "cell_type": "code",
   "execution_count": null,
   "id": "36511e42",
   "metadata": {},
   "outputs": [],
   "source": []
  }
 ],
 "metadata": {
  "kernelspec": {
   "display_name": "Python 3",
   "language": "python",
   "name": "python3"
  },
  "language_info": {
   "codemirror_mode": {
    "name": "ipython",
    "version": 3
   },
   "file_extension": ".py",
   "mimetype": "text/x-python",
   "name": "python",
   "nbconvert_exporter": "python",
   "pygments_lexer": "ipython3",
   "version": "3.8.8"
  }
 },
 "nbformat": 4,
 "nbformat_minor": 5
}
